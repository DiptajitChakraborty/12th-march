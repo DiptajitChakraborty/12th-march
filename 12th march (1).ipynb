{
 "cells": [
  {
   "cell_type": "markdown",
   "id": "779c2221-8e18-478b-ae93-be7ea80c0af6",
   "metadata": {},
   "source": [
    "Q1. Calculate the 95% confidence interval for a sample of data with a mean of 50 and a standard deviation\n",
    "of 5 using Python. Interpret the results."
   ]
  },
  {
   "cell_type": "code",
   "execution_count": 1,
   "id": "14e124bd-b801-4b41-af4b-f216cec1d27c",
   "metadata": {},
   "outputs": [
    {
     "name": "stdout",
     "output_type": "stream",
     "text": [
      "The confidence interval is -4.800000000000001 to 14.8\n"
     ]
    }
   ],
   "source": [
    "mean = 5\n",
    "std = 5\n",
    "ci =.95\n",
    "alpha = .05\n",
    "lower_ci = mean - 1.96*std\n",
    "upper_ci = mean + 1.96*std\n",
    "print(\"The confidence interval is\",lower_ci ,\"to\",upper_ci)"
   ]
  },
  {
   "cell_type": "markdown",
   "id": "c29b9e98-774a-408e-a03d-78af10c7a193",
   "metadata": {},
   "source": [
    "Q2. Conduct a chi-square goodness of fit test to determine if the distribution of colors of M&Ms in a bag\n",
    "matches the expected distribution of 20% blue, 20% orange, 20% green, 10% yellow, 10% red, and 20%\n",
    "brown. Use Python to perform the test with a significance level of 0.05."
   ]
  },
  {
   "cell_type": "code",
   "execution_count": 19,
   "id": "4d080205-7e1d-4191-aa49-8a71dc9d4457",
   "metadata": {},
   "outputs": [],
   "source": [
    "#Here we can see that degree of freedom\n",
    "significance_level = .05"
   ]
  },
  {
   "cell_type": "markdown",
   "id": "f82880a8-fed3-4369-82ae-921a2d1a8156",
   "metadata": {},
   "source": [
    "According to the manufacturer of M&M candy, the color distribution for plain chocolate M&Ms is 20% blue, 20% orange, 20% green, 10% yellow, 10% red, and 20% brown.  This statement about the distribution of color in plain M&Ms is the null hypothesis. The alternative hypothesis says that this is not the distribution.\n",
    "\n",
    "H0: The color distribution for plain M&Ms is 20% blue, 20% orange, 20% green, 10% yellow, 10% red, and 20% brown. \n",
    "Ha: The color distribution for plain M&Ms is different from the distribution stated in the null hypothesis.\n",
    "We select a random sample of 300 plain M&M candies to test these hypotheses. If the sample has the distribution of color stated in the null hypothesis, then we expect 20% of the 300 to be blue, 20% of 300 to be orange, 20% of 300 to be green, 10% of 300 to be yellow,10% of 300 to be red , 20% of 300 to be brown and so on. Here are the expected counts of each color for a sample of 300 candies:"
   ]
  },
  {
   "cell_type": "code",
   "execution_count": 20,
   "id": "c8fbd605-dafb-4a7c-a814-22273238123d",
   "metadata": {},
   "outputs": [
    {
     "data": {
      "text/plain": [
       "[60.0, 60.0, 60.0, 30.0, 30.0, 60.0]"
      ]
     },
     "execution_count": 20,
     "metadata": {},
     "output_type": "execute_result"
    }
   ],
   "source": [
    "blue = .20*300\n",
    "orange = .20*300\n",
    "green = .20*300\n",
    "yellow= .10*300\n",
    "red = .10*300\n",
    "brown = .20*300\n",
    "expected_value = [blue, orange, green, yellow, red, brown]\n",
    "expected_value"
   ]
  },
  {
   "cell_type": "markdown",
   "id": "4aff0b76-257a-41ed-a1aa-d5cf7023b376",
   "metadata": {},
   "source": [
    "if we take the obsereved value of blue, orange, green,yellow, red, brown as: "
   ]
  },
  {
   "cell_type": "code",
   "execution_count": 21,
   "id": "9104fcc4-8b2b-46a5-88d8-c956611989d8",
   "metadata": {},
   "outputs": [
    {
     "data": {
      "text/plain": [
       "300"
      ]
     },
     "execution_count": 21,
     "metadata": {},
     "output_type": "execute_result"
    }
   ],
   "source": [
    "observed_value = [60,54,56,36,34,60]\n",
    "sum(observed_value)"
   ]
  },
  {
   "cell_type": "code",
   "execution_count": 22,
   "id": "fb6d813c-9fd4-4903-9897-cc4298349d3c",
   "metadata": {},
   "outputs": [],
   "source": [
    "#the chi-square fit will be :\n",
    "import scipy.stats as stat\n",
    "chisqare_test_statistics , p_value= stat.chisquare(observed_value,expected_value)"
   ]
  },
  {
   "cell_type": "code",
   "execution_count": 23,
   "id": "58db58e7-711c-4561-8f68-a6ae370cad8b",
   "metadata": {},
   "outputs": [
    {
     "data": {
      "text/plain": [
       "2.5999999999999996"
      ]
     },
     "execution_count": 23,
     "metadata": {},
     "output_type": "execute_result"
    }
   ],
   "source": [
    "chisqare_test_statistics"
   ]
  },
  {
   "cell_type": "code",
   "execution_count": 24,
   "id": "dd0971ad-6545-4e2a-bad5-af86a16bd90c",
   "metadata": {},
   "outputs": [],
   "source": [
    "##find the crtical value\n",
    "df = len(expected_value)-1\n",
    "critical_value = stat.chi2.ppf(1 - significance_level, df)"
   ]
  },
  {
   "cell_type": "code",
   "execution_count": 26,
   "id": "80ca0e80-47e0-4600-97de-0679a5407635",
   "metadata": {},
   "outputs": [
    {
     "name": "stdout",
     "output_type": "stream",
     "text": [
      "We will accept the null hypothesis\n"
     ]
    }
   ],
   "source": [
    "if chisqare_test_statistics > critical_value:\n",
    "    print(\"We reject the null hypothesis\")\n",
    "else :\n",
    "    print(\"We will accept the null hypothesis\")"
   ]
  },
  {
   "cell_type": "markdown",
   "id": "8da0d383-4294-44cb-82a5-c5b68c3fb907",
   "metadata": {},
   "source": [
    "Q3. Use Python to calculate the chi-square statistic and p-value for a contingency table with the following\n",
    "data:"
   ]
  },
  {
   "cell_type": "code",
   "execution_count": 32,
   "id": "e0e62a7b-14db-441a-b91d-9adcf9eb4564",
   "metadata": {},
   "outputs": [
    {
     "ename": "ValueError",
     "evalue": "For each axis slice, the sum of the observed frequencies must agree with the sum of the expected frequencies to a relative tolerance of 1e-08, but the percent differences are:\n0.3333333333333333",
     "output_type": "error",
     "traceback": [
      "\u001b[0;31m---------------------------------------------------------------------------\u001b[0m",
      "\u001b[0;31mValueError\u001b[0m                                Traceback (most recent call last)",
      "Cell \u001b[0;32mIn[32], line 3\u001b[0m\n\u001b[1;32m      1\u001b[0m group_a_data \u001b[38;5;241m=\u001b[39m [\u001b[38;5;241m20\u001b[39m,\u001b[38;5;241m10\u001b[39m,\u001b[38;5;241m15\u001b[39m]\n\u001b[1;32m      2\u001b[0m group_b_data \u001b[38;5;241m=\u001b[39m [\u001b[38;5;241m15\u001b[39m,\u001b[38;5;241m25\u001b[39m,\u001b[38;5;241m20\u001b[39m]\n\u001b[0;32m----> 3\u001b[0m chisqare_test_statistics , p_value\u001b[38;5;241m=\u001b[39m \u001b[43mstat\u001b[49m\u001b[38;5;241;43m.\u001b[39;49m\u001b[43mchisquare\u001b[49m\u001b[43m(\u001b[49m\u001b[43mgroup_a_data\u001b[49m\u001b[43m,\u001b[49m\u001b[43m \u001b[49m\u001b[43mgroup_b_data\u001b[49m\u001b[43m)\u001b[49m\n",
      "File \u001b[0;32m/opt/conda/lib/python3.10/site-packages/scipy/stats/_stats_py.py:7311\u001b[0m, in \u001b[0;36mchisquare\u001b[0;34m(f_obs, f_exp, ddof, axis)\u001b[0m\n\u001b[1;32m   7187\u001b[0m \u001b[38;5;28;01mdef\u001b[39;00m \u001b[38;5;21mchisquare\u001b[39m(f_obs, f_exp\u001b[38;5;241m=\u001b[39m\u001b[38;5;28;01mNone\u001b[39;00m, ddof\u001b[38;5;241m=\u001b[39m\u001b[38;5;241m0\u001b[39m, axis\u001b[38;5;241m=\u001b[39m\u001b[38;5;241m0\u001b[39m):\n\u001b[1;32m   7188\u001b[0m     \u001b[38;5;124;03m\"\"\"Calculate a one-way chi-square test.\u001b[39;00m\n\u001b[1;32m   7189\u001b[0m \n\u001b[1;32m   7190\u001b[0m \u001b[38;5;124;03m    The chi-square test tests the null hypothesis that the categorical data\u001b[39;00m\n\u001b[0;32m   (...)\u001b[0m\n\u001b[1;32m   7309\u001b[0m \n\u001b[1;32m   7310\u001b[0m \u001b[38;5;124;03m    \"\"\"\u001b[39;00m\n\u001b[0;32m-> 7311\u001b[0m     \u001b[38;5;28;01mreturn\u001b[39;00m \u001b[43mpower_divergence\u001b[49m\u001b[43m(\u001b[49m\u001b[43mf_obs\u001b[49m\u001b[43m,\u001b[49m\u001b[43m \u001b[49m\u001b[43mf_exp\u001b[49m\u001b[38;5;241;43m=\u001b[39;49m\u001b[43mf_exp\u001b[49m\u001b[43m,\u001b[49m\u001b[43m \u001b[49m\u001b[43mddof\u001b[49m\u001b[38;5;241;43m=\u001b[39;49m\u001b[43mddof\u001b[49m\u001b[43m,\u001b[49m\u001b[43m \u001b[49m\u001b[43maxis\u001b[49m\u001b[38;5;241;43m=\u001b[39;49m\u001b[43maxis\u001b[49m\u001b[43m,\u001b[49m\n\u001b[1;32m   7312\u001b[0m \u001b[43m                            \u001b[49m\u001b[43mlambda_\u001b[49m\u001b[38;5;241;43m=\u001b[39;49m\u001b[38;5;124;43m\"\u001b[39;49m\u001b[38;5;124;43mpearson\u001b[39;49m\u001b[38;5;124;43m\"\u001b[39;49m\u001b[43m)\u001b[49m\n",
      "File \u001b[0;32m/opt/conda/lib/python3.10/site-packages/scipy/stats/_stats_py.py:7153\u001b[0m, in \u001b[0;36mpower_divergence\u001b[0;34m(f_obs, f_exp, ddof, axis, lambda_)\u001b[0m\n\u001b[1;32m   7147\u001b[0m     \u001b[38;5;28;01mif\u001b[39;00m diff_gt_tol:\n\u001b[1;32m   7148\u001b[0m         msg \u001b[38;5;241m=\u001b[39m (\u001b[38;5;124mf\u001b[39m\u001b[38;5;124m\"\u001b[39m\u001b[38;5;124mFor each axis slice, the sum of the observed \u001b[39m\u001b[38;5;124m\"\u001b[39m\n\u001b[1;32m   7149\u001b[0m                \u001b[38;5;124mf\u001b[39m\u001b[38;5;124m\"\u001b[39m\u001b[38;5;124mfrequencies must agree with the sum of the \u001b[39m\u001b[38;5;124m\"\u001b[39m\n\u001b[1;32m   7150\u001b[0m                \u001b[38;5;124mf\u001b[39m\u001b[38;5;124m\"\u001b[39m\u001b[38;5;124mexpected frequencies to a relative tolerance \u001b[39m\u001b[38;5;124m\"\u001b[39m\n\u001b[1;32m   7151\u001b[0m                \u001b[38;5;124mf\u001b[39m\u001b[38;5;124m\"\u001b[39m\u001b[38;5;124mof \u001b[39m\u001b[38;5;132;01m{\u001b[39;00mrtol\u001b[38;5;132;01m}\u001b[39;00m\u001b[38;5;124m, but the percent differences are:\u001b[39m\u001b[38;5;130;01m\\n\u001b[39;00m\u001b[38;5;124m\"\u001b[39m\n\u001b[1;32m   7152\u001b[0m                \u001b[38;5;124mf\u001b[39m\u001b[38;5;124m\"\u001b[39m\u001b[38;5;132;01m{\u001b[39;00mrelative_diff\u001b[38;5;132;01m}\u001b[39;00m\u001b[38;5;124m\"\u001b[39m)\n\u001b[0;32m-> 7153\u001b[0m         \u001b[38;5;28;01mraise\u001b[39;00m \u001b[38;5;167;01mValueError\u001b[39;00m(msg)\n\u001b[1;32m   7155\u001b[0m \u001b[38;5;28;01melse\u001b[39;00m:\n\u001b[1;32m   7156\u001b[0m     \u001b[38;5;66;03m# Ignore 'invalid' errors so the edge case of a data set with length 0\u001b[39;00m\n\u001b[1;32m   7157\u001b[0m     \u001b[38;5;66;03m# is handled without spurious warnings.\u001b[39;00m\n\u001b[1;32m   7158\u001b[0m     \u001b[38;5;28;01mwith\u001b[39;00m np\u001b[38;5;241m.\u001b[39merrstate(invalid\u001b[38;5;241m=\u001b[39m\u001b[38;5;124m'\u001b[39m\u001b[38;5;124mignore\u001b[39m\u001b[38;5;124m'\u001b[39m):\n",
      "\u001b[0;31mValueError\u001b[0m: For each axis slice, the sum of the observed frequencies must agree with the sum of the expected frequencies to a relative tolerance of 1e-08, but the percent differences are:\n0.3333333333333333"
     ]
    }
   ],
   "source": [
    "group_a_data = [20,10,15]\n",
    "group_b_data = [15,25,20]\n",
    "chisqare_test_statistics , p_value= stat.chisquare(group_a_data, group_b_data)"
   ]
  },
  {
   "cell_type": "code",
   "execution_count": 33,
   "id": "921e049a-6d62-4940-b393-998c7a7125f3",
   "metadata": {},
   "outputs": [],
   "source": [
    "#here the sum of the group a  data and group b data are not same thats why we cannot perform chi square test."
   ]
  },
  {
   "cell_type": "markdown",
   "id": "3656beff-05db-428e-8f17-d863a690c7c6",
   "metadata": {},
   "source": [
    "Q4. A study of the prevalence of smoking in a population of 500 individuals found that 60 individuals\n",
    "smoked. Use Python to calculate the 95% confidence interval for the true proportion of individuals in the\n",
    "population who smoke."
   ]
  },
  {
   "cell_type": "code",
   "execution_count": 5,
   "id": "4f247458-56b4-4597-af3b-fc4378a39855",
   "metadata": {},
   "outputs": [
    {
     "name": "stdout",
     "output_type": "stream",
     "text": [
      "The proportion is  0.09151586546865079 to 0.1484841345313492\n"
     ]
    }
   ],
   "source": [
    "import math\n",
    "n = 500\n",
    "smoked= 60\n",
    "p = smoked/n\n",
    "q = 1-p\n",
    "ci = .95\n",
    "significance_level = .05\n",
    "z_score = 1.96\n",
    "loewr_prop = p - z_score*math.sqrt((p*q)/n)\n",
    "upper_prop = p + z_score*math.sqrt((p*q)/n)\n",
    "print(\"The proportion is \",loewr_prop,\"to\",upper_prop)"
   ]
  },
  {
   "cell_type": "markdown",
   "id": "04873522-92b8-44cc-aa87-4d3de0fe36d6",
   "metadata": {},
   "source": [
    "Q5. Calculate the 90% confidence interval for a sample of data with a mean of 75 and a standard deviation\n",
    "of 12 using Python. Interpret the results."
   ]
  },
  {
   "cell_type": "code",
   "execution_count": 8,
   "id": "6ace1bf0-b700-4c18-adc8-89214956a8c4",
   "metadata": {},
   "outputs": [
    {
     "name": "stdout",
     "output_type": "stream",
     "text": [
      "The confidence interval is 55.2 to 94.8\n"
     ]
    }
   ],
   "source": [
    "mean = 75\n",
    "std = 12\n",
    "ci =.90\n",
    "alpha = .10\n",
    "##z-score is 1.65\n",
    "lower_ci = mean - 1.65*std\n",
    "upper_ci = mean + 1.65*std\n",
    "print(\"The confidence interval is\",lower_ci ,\"to\",upper_ci)"
   ]
  },
  {
   "cell_type": "markdown",
   "id": "f5967327-653d-474d-9dab-f55b38a80db8",
   "metadata": {},
   "source": [
    "Q6. Use Python to plot the chi-square distribution with 10 degrees of freedom. Label the axes and shade the\n",
    "area corresponding to a chi-square statistic of 15."
   ]
  },
  {
   "cell_type": "code",
   "execution_count": 13,
   "id": "f6f11e4e-5fa0-43fb-b0c2-5a9ae3216b9c",
   "metadata": {},
   "outputs": [
    {
     "name": "stderr",
     "output_type": "stream",
     "text": [
      "/tmp/ipykernel_1116/331678585.py:5: UserWarning: \n",
      "\n",
      "`distplot` is a deprecated function and will be removed in seaborn v0.14.0.\n",
      "\n",
      "Please adapt your code to use either `displot` (a figure-level function with\n",
      "similar flexibility) or `kdeplot` (an axes-level function for kernel density plots).\n",
      "\n",
      "For a guide to updating your code to use the new functions, please see\n",
      "https://gist.github.com/mwaskom/de44147ed2974457ad6372750bbe5751\n",
      "\n",
      "  sns.distplot(random.chisquare(df=10, size=1000), hist=False)\n"
     ]
    },
    {
     "data": {
      "image/png": "[encoded data removed]",
      "text/plain": [
       "<Figure size 640x480 with 1 Axes>"
      ]
     },
     "metadata": {},
     "output_type": "display_data"
    }
   ],
   "source": [
    "from numpy import random\n",
    "import matplotlib.pyplot as plt\n",
    "import seaborn as sns\n",
    "\n",
    "sns.distplot(random.chisquare(df=10, size=1000), hist=False)\n",
    "\n",
    "plt.show()\n",
    "\n",
    "## how to shade the area is not taught to us , and was unable to find it on google."
   ]
  },
  {
   "cell_type": "markdown",
   "id": "fea82769-719c-4b1e-b532-e2b45a78ac4c",
   "metadata": {},
   "source": [
    "Q7. A random sample of 1000 people was asked if they preferred Coke or Pepsi. Of the sample, 520\n",
    "preferred Coke. Calculate a 99% confidence interval for the true proportion of people in the population who\n",
    "prefer Coke."
   ]
  },
  {
   "cell_type": "code",
   "execution_count": 15,
   "id": "809b0acc-40a1-4e76-ab66-3ec541c00e42",
   "metadata": {},
   "outputs": [
    {
     "name": "stdout",
     "output_type": "stream",
     "text": [
      "The proportion is  0.4792392659536166 to 0.5607607340463834\n"
     ]
    }
   ],
   "source": [
    "import math\n",
    "n = 1000\n",
    "coke = 520\n",
    "ci = .99\n",
    "p = coke/n\n",
    "q = 1-p\n",
    "significance_value = .01\n",
    "z_score = 2.58\n",
    "loewr_prop = p - z_score*math.sqrt((p*q)/n)\n",
    "upper_prop = p + z_score*math.sqrt((p*q)/n)\n",
    "print(\"The proportion is \",loewr_prop,\"to\",upper_prop)"
   ]
  },
  {
   "cell_type": "markdown",
   "id": "5b9da2ac-5f4f-4460-8658-a8ecc77373ea",
   "metadata": {},
   "source": [
    "Q8. A researcher hypothesizes that a coin is biased towards tails. They flip the coin 100 times and observe\n",
    "45 tails. Conduct a chi-square goodness of fit test to determine if the observed frequencies match the\n",
    "expected frequencies of a fair coin. Use a significance level of 0.05."
   ]
  },
  {
   "cell_type": "code",
   "execution_count": 1,
   "id": "941e45f4-f99e-4d56-91e7-7ceecba99d08",
   "metadata": {},
   "outputs": [],
   "source": [
    "n = 100\n",
    "tails = 45\n",
    "significance_value = .05\n",
    "#null hypothesis probaility of tail = .5\n",
    "#Alternative hypothesis : prob of tail not equal to .5\n",
    "#here degree of freedom  = 1\n",
    "expected_value = .50\n",
    "observed_value = tails/n\n",
    "chi_square_stat = (observed_value-expected_value)**2/expected_value"
   ]
  },
  {
   "cell_type": "code",
   "execution_count": 2,
   "id": "10de7c16-6ee6-4bc2-84e4-3c7ac5d3a0e1",
   "metadata": {},
   "outputs": [
    {
     "data": {
      "text/plain": [
       "0.0049999999999999975"
      ]
     },
     "execution_count": 2,
     "metadata": {},
     "output_type": "execute_result"
    }
   ],
   "source": [
    "chi_square_stat"
   ]
  },
  {
   "cell_type": "code",
   "execution_count": 3,
   "id": "5e6564f6-3dc8-4d2e-885e-96998057642b",
   "metadata": {},
   "outputs": [],
   "source": [
    "critical_value  = 3.841"
   ]
  },
  {
   "cell_type": "code",
   "execution_count": 5,
   "id": "bbd47d20-509e-4028-94a8-629688d4bf24",
   "metadata": {},
   "outputs": [
    {
     "name": "stdout",
     "output_type": "stream",
     "text": [
      "We will fail to reject the null hypothesis\n",
      " i.e. the coin is fair\n"
     ]
    }
   ],
   "source": [
    "if chi_square_stat >critical_value:\n",
    "    print(\"We reject the null hypothesis\")\n",
    "else:\n",
    "    print(\"We will fail to reject the null hypothesis\\n i.e. the coin is fair\")"
   ]
  },
  {
   "cell_type": "markdown",
   "id": "dea5e794-4d6d-48c7-906f-5dce3e459018",
   "metadata": {},
   "source": [
    "Q9. A study was conducted to determine if there is an association between smoking status (smoker or\n",
    "non-smoker) and lung cancer diagnosis (yes or no). The results are shown in the contingency table below.\n",
    "Conduct a chi-square test for independence to determine if there is a significant association between\n",
    "smoking status and lung cancer diagnosis."
   ]
  },
  {
   "cell_type": "code",
   "execution_count": 8,
   "id": "ba7493ac-8586-49b4-98a9-c7987df4f166",
   "metadata": {},
   "outputs": [],
   "source": [
    "smoker_total = 60 +140\n",
    "non_smoker_total = 30+170\n",
    "lung_cancer_yes_total = 60 +30\n",
    "lung_cancer_no_total = 140+170\n",
    "total = smoker_total+non_smoker_total"
   ]
  },
  {
   "cell_type": "code",
   "execution_count": 18,
   "id": "91a1423b-29a0-425c-9c35-3de934ce4c25",
   "metadata": {},
   "outputs": [],
   "source": [
    "expected_smoker_and_lung_cancer_yes =(smoker_total*lung_cancer_yes_total)/400\n",
    "expected_smoker_and_lung_cancer_no =(smoker_total*lung_cancer_no_total)/400\n",
    "expected_non_smoker_and_lung_cancer_yes = (non_smoker_total*lung_cancer_yes_total)/400\n",
    "expected_non_smoker_and_lung_cancer_no =(non_smoker_total*lung_cancer_no_total)/400\n",
    "observed_value = [expected_smoker_and_lung_cancer_yes,expected_smoker_and_lung_cancer_no,expected_non_smoker_and_lung_cancer_yes,expected_non_smoker_and_lung_cancer_no]"
   ]
  },
  {
   "cell_type": "code",
   "execution_count": 19,
   "id": "cf92af15-d6d4-4622-9167-6d0dcc609592",
   "metadata": {},
   "outputs": [],
   "source": [
    "observed_smoker_and_lung_cancer_yes =60\n",
    "observed_smoker_and_lung_cancer_no = 140\n",
    "observed_non_smoker_and_lung_cancer_yes = 30\n",
    "observed_non_smoker_and_lung_cancer_no = 170\n",
    "obserevd_value = [observed_smoker_and_lung_cancer_yes,observed_smoker_and_lung_cancer_no,observed_non_smoker_and_lung_cancer_yes,observed_non_smoker_and_lung_cancer_no]"
   ]
  },
  {
   "cell_type": "code",
   "execution_count": 22,
   "id": "63e522b5-4f00-494b-a6b4-0e9daaf3b709",
   "metadata": {},
   "outputs": [],
   "source": [
    "chi_square_value = (observed_smoker_and_lung_cancer_yes-expected_smoker_and_lung_cancer_yes)**2/expected_smoker_and_lung_cancer_yes+(observed_smoker_and_lung_cancer_no-expected_smoker_and_lung_cancer_no)**2/expected_smoker_and_lung_cancer_no+(observed_non_smoker_and_lung_cancer_yes-expected_non_smoker_and_lung_cancer_yes)**2/expected_non_smoker_and_lung_cancer_yes+(observed_non_smoker_and_lung_cancer_no-expected_non_smoker_and_lung_cancer_no)/expected_non_smoker_and_lung_cancer_no"
   ]
  },
  {
   "cell_type": "code",
   "execution_count": 23,
   "id": "eb21442e-f912-45c3-9968-5191756fe77a",
   "metadata": {},
   "outputs": [
    {
     "data": {
      "text/plain": [
       "11.548387096774194"
      ]
     },
     "execution_count": 23,
     "metadata": {},
     "output_type": "execute_result"
    }
   ],
   "source": [
    "chi_square_value"
   ]
  },
  {
   "cell_type": "code",
   "execution_count": 34,
   "id": "b2cadbcf-f59c-46d2-a0c7-053c29f03645",
   "metadata": {},
   "outputs": [],
   "source": [
    "critical_value = stat.chi2.ppf(1 - 0.05, 3)"
   ]
  },
  {
   "cell_type": "code",
   "execution_count": 35,
   "id": "fd80b3fe-989f-4aaa-a937-4a1d0c1e63df",
   "metadata": {},
   "outputs": [
    {
     "data": {
      "text/plain": [
       "7.814727903251179"
      ]
     },
     "execution_count": 35,
     "metadata": {},
     "output_type": "execute_result"
    }
   ],
   "source": [
    "critical_value"
   ]
  },
  {
   "cell_type": "code",
   "execution_count": 36,
   "id": "dd63e5ac-c896-40d8-a3fc-8e57711b3d12",
   "metadata": {},
   "outputs": [
    {
     "name": "stdout",
     "output_type": "stream",
     "text": [
      "We reject the null hypothesis\n"
     ]
    }
   ],
   "source": [
    "if chi_square_value > critical_value:\n",
    "    print(\"We reject the null hypothesis\")\n",
    "else :\n",
    "    print(\"We will accept the null hypothesis\")"
   ]
  },
  {
   "cell_type": "markdown",
   "id": "439cd61d-8d0a-45c5-ab0b-b54fe2c0017a",
   "metadata": {},
   "source": [
    "\n",
    "Q10. A study was conducted to determine if the proportion of people who prefer milk chocolate, dark\n",
    "chocolate, or white chocolate is different in the U.S. versus the U.K. A random sample of 500 people from\n",
    "the U.S. and a random sample of 500 people from the U.K. were surveyed. The results are shown in the\n",
    "contingency table below. Conduct a chi-square test for independence to determine if there is a significant\n",
    "association between chocolate preference and country of origin."
   ]
  },
  {
   "cell_type": "code",
   "execution_count": 27,
   "id": "63a1b164-9e33-45eb-bfee-fd637e970138",
   "metadata": {},
   "outputs": [],
   "source": [
    "#null hypothesis: there will be significant association\n",
    "#alternative hypothesis: there will be no assosiation"
   ]
  },
  {
   "cell_type": "code",
   "execution_count": 30,
   "id": "faa92f2b-9788-4420-b369-80dfa9357a87",
   "metadata": {},
   "outputs": [],
   "source": [
    "chi_sqaure_value1 = (200-212.5)**2/212.5+(150-164.5)**2/164.5+(150-125)**2/125+(225-212.5)**2/212.5+(175-164.5)**2/164.5+(100-125)**2/125"
   ]
  },
  {
   "cell_type": "code",
   "execution_count": 39,
   "id": "60820a5d-0d0c-4949-a61f-3dc423e833c8",
   "metadata": {},
   "outputs": [
    {
     "data": {
      "text/plain": [
       "13.41891650277132"
      ]
     },
     "execution_count": 39,
     "metadata": {},
     "output_type": "execute_result"
    }
   ],
   "source": [
    "chi_sqaure_value1"
   ]
  },
  {
   "cell_type": "code",
   "execution_count": 40,
   "id": "830714b1-df58-4605-8a1d-5769306cd987",
   "metadata": {},
   "outputs": [],
   "source": [
    "critical_value = stat.chi2.ppf(1 - 0.01, 5)"
   ]
  },
  {
   "cell_type": "code",
   "execution_count": 41,
   "id": "aabefb44-723b-4d4f-ba85-46ef568db8ac",
   "metadata": {},
   "outputs": [
    {
     "data": {
      "text/plain": [
       "15.08627246938899"
      ]
     },
     "execution_count": 41,
     "metadata": {},
     "output_type": "execute_result"
    }
   ],
   "source": [
    "critical_value"
   ]
  },
  {
   "cell_type": "code",
   "execution_count": 42,
   "id": "f6f33347-f82e-48ec-b1bd-782b46c2c287",
   "metadata": {},
   "outputs": [
    {
     "name": "stdout",
     "output_type": "stream",
     "text": [
      "We will accept the null hypothesis\n"
     ]
    }
   ],
   "source": [
    "if chi_sqaure_value1 > critical_value:\n",
    "    print(\"We reject the null hypothesis\")\n",
    "else :\n",
    "    print(\"We will accept the null hypothesis\")"
   ]
  },
  {
   "cell_type": "markdown",
   "id": "c8140f74-ceb0-4844-8f90-d26e6fb5eb4e",
   "metadata": {},
   "source": [
    "Q11. A random sample of 30 people was selected from a population with an unknown mean and standard\n",
    "deviation. The sample mean was found to be 72 and the sample standard deviation was found to be 10.\n",
    "Conduct a hypothesis test to determine if the population mean is significantly different from 70. Use a\n",
    "significance level of 0.05."
   ]
  },
  {
   "cell_type": "code",
   "execution_count": 44,
   "id": "97b42338-c9db-45a6-81bc-bca735f4ae6c",
   "metadata": {},
   "outputs": [
    {
     "name": "stdout",
     "output_type": "stream",
     "text": [
      "The confidence interval is 52.4 to 91.6\n"
     ]
    }
   ],
   "source": [
    "n = 30\n",
    "samp_mean = 72\n",
    "samp_std = 10\n",
    "significance_value = 0.05\n",
    "z_value = 1.96\n",
    "lower_ci = samp_mean - z_value*samp_std\n",
    "upper_ci = samp_mean + z_value*samp_std\n",
    "print(\"The confidence interval is\",lower_ci ,\"to\",upper_ci)"
   ]
  },
  {
   "cell_type": "code",
   "execution_count": 45,
   "id": "2cb5baae-d075-4705-8b8a-a1c0a8793e68",
   "metadata": {},
   "outputs": [],
   "source": [
    "#Null hypothesis: population mean is 70\n",
    "##alt hypothesis; populatiom will be not equal to 70\n",
    "\n",
    "##here we see that the population mean 70 is lying between confidence interval.\n",
    "##i.e. we will accept the null hypothesis"
   ]
  },
  {
   "cell_type": "code",
   "execution_count": null,
   "id": "7d90e80b-8b23-4c0d-98de-1a35d9e83d1e",
   "metadata": {},
   "outputs": [],
   "source": []
  },
  {
   "cell_type": "code",
   "execution_count": null,
   "id": "10a547f3-1244-427d-8d1a-c0bc1f19a5c2",
   "metadata": {},
   "outputs": [],
   "source": []
  },
  {
   "cell_type": "code",
   "execution_count": null,
   "id": "120dac67-14d7-4527-b2ac-47480b26c015",
   "metadata": {},
   "outputs": [],
   "source": []
  },
  {
   "cell_type": "code",
   "execution_count": null,
   "id": "9f8e351c-458a-4f1b-9154-dd5adb8c5271",
   "metadata": {},
   "outputs": [],
   "source": []
  },
  {
   "cell_type": "code",
   "execution_count": null,
   "id": "909c2851-d317-4b92-a212-3c9d5d5e8fe5",
   "metadata": {},
   "outputs": [],
   "source": []
  },
  {
   "cell_type": "code",
   "execution_count": null,
   "id": "309d43bf-1764-492b-bacf-db67f23a6fa2",
   "metadata": {},
   "outputs": [],
   "source": []
  },
  {
   "cell_type": "code",
   "execution_count": null,
   "id": "18a10a37-72ac-4182-a05e-6fcf38752e59",
   "metadata": {},
   "outputs": [],
   "source": []
  },
  {
   "cell_type": "code",
   "execution_count": null,
   "id": "34594a76-9874-49c7-ba48-6afc77635bd6",
   "metadata": {},
   "outputs": [],
   "source": []
  }
 ],
 "metadata": {
  "kernelspec": {
   "display_name": "Python 3 (ipykernel)",
   "language": "python",
   "name": "python3"
  },
  "language_info": {
   "codemirror_mode": {
    "name": "ipython",
    "version": 3
   },
   "file_extension": ".py",
   "mimetype": "text/x-python",
   "name": "python",
   "nbconvert_exporter": "python",
   "pygments_lexer": "ipython3",
   "version": "3.10.8"
  }
 },
 "nbformat": 4,
 "nbformat_minor": 5
}
